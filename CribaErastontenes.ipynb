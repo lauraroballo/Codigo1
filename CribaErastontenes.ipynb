{
  "nbformat": 4,
  "nbformat_minor": 0,
  "metadata": {
    "colab": {
      "provenance": [],
      "authorship_tag": "ABX9TyOEhVdfaCA+Q7S/VV2cxW1J",
      "include_colab_link": true
    },
    "kernelspec": {
      "name": "python3",
      "display_name": "Python 3"
    },
    "language_info": {
      "name": "python"
    }
  },
  "cells": [
    {
      "cell_type": "markdown",
      "metadata": {
        "id": "view-in-github",
        "colab_type": "text"
      },
      "source": [
        "<a href=\"https://colab.research.google.com/github/lauraroballo/Codigo1/blob/master/CribaErastontenes.ipynb\" target=\"_parent\"><img src=\"https://colab.research.google.com/assets/colab-badge.svg\" alt=\"Open In Colab\"/></a>"
      ]
    },
    {
      "cell_type": "code",
      "execution_count": null,
      "metadata": {
        "id": "Ff-MGeJs2Em9"
      },
      "outputs": [],
      "source": []
    },
    {
      "cell_type": "code",
      "source": [
        "numero = int(input(\"Digite un número\"))\n",
        "def criba_proyecto(numero):\n",
        "  primos = []\n",
        "  no_pertenece_a_primos = []\n",
        "\n",
        "\n",
        "  for i in range(2, numero + 1):\n",
        "      if i not in no_pertenece_a_primos:\n",
        "          primos.append(i)\n",
        "\n",
        "          for j in range(i * i, numero+1, i):\n",
        "              no_pertenece_a_primos.append(j)\n",
        "\n",
        "  return primos\n",
        "\n",
        "\n",
        "print(criba_proyecto(numero))\n",
        "\n"
      ],
      "metadata": {
        "colab": {
          "base_uri": "https://localhost:8080/"
        },
        "id": "-SlfZuHK2hGl",
        "outputId": "93206d2f-136f-4c90-8162-4db00f7f1d05"
      },
      "execution_count": 59,
      "outputs": [
        {
          "output_type": "stream",
          "name": "stdout",
          "text": [
            "Digite un número100\n",
            "[2, 3, 5, 7, 11, 13, 17, 19, 23, 29, 31, 37, 41, 43, 47, 53, 59, 61, 67, 71, 73, 79, 83, 89, 97]\n"
          ]
        }
      ]
    }
  ]
}